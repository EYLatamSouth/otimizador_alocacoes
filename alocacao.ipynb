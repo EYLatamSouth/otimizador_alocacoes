{
 "cells": [
  {
   "cell_type": "code",
   "execution_count": 18,
   "metadata": {},
   "outputs": [],
   "source": [
    "import pandas as pd\n",
    "import json\n",
    "import numpy as np"
   ]
  },
  {
   "cell_type": "code",
   "execution_count": 19,
   "metadata": {},
   "outputs": [],
   "source": [
    "df = pd.read_excel(r\"C:\\Users\\KU621QF\\OneDrive - EY\\Documents\\EY\\otimizador_alocacoes\\Resultado.xlsx\")\n",
    "df.drop(columns=[\"Unnamed: 0\"], inplace=True)"
   ]
  },
  {
   "cell_type": "code",
   "execution_count": 20,
   "metadata": {},
   "outputs": [],
   "source": [
    "for col in df.columns:\n",
    "    if all(df[col]==0):\n",
    "        df[col]=\"F\""
   ]
  },
  {
   "cell_type": "code",
   "execution_count": 21,
   "metadata": {},
   "outputs": [],
   "source": [
    "\n"
   ]
  },
  {
   "cell_type": "code",
   "execution_count": null,
   "metadata": {},
   "outputs": [],
   "source": [
    "# df_repeated.to_csv(\"repeated.csv\")"
   ]
  },
  {
   "cell_type": "code",
   "execution_count": null,
   "metadata": {},
   "outputs": [],
   "source": [
    "# df.set_index(\"empresa\", inplace=True)\n",
    "# cols = [\"senior\", \"staff 3\", \"staff 2\", \"trainee\"]\n",
    "# result_dict = df[cols].transpose().to_dict()"
   ]
  },
  {
   "cell_type": "code",
   "execution_count": null,
   "metadata": {},
   "outputs": [],
   "source": [
    "# file_path = \"./total_alocacao_empresa.json\"\n",
    "# with open(file_path, \"w\") as file:\n",
    "#     json.dump(result_dict, file, ensure_ascii=False)"
   ]
  },
  {
   "cell_type": "code",
   "execution_count": null,
   "metadata": {},
   "outputs": [],
   "source": [
    "# result_dict[\"SUL AMERICA\"]"
   ]
  },
  {
   "cell_type": "code",
   "execution_count": null,
   "metadata": {},
   "outputs": [],
   "source": [
    "# df_sul_america = df[df[\"empresa\"]==\"SUL AMERICA\"]"
   ]
  },
  {
   "cell_type": "code",
   "execution_count": null,
   "metadata": {},
   "outputs": [],
   "source": [
    "# df_sul_america"
   ]
  },
  {
   "cell_type": "code",
   "execution_count": 22,
   "metadata": {},
   "outputs": [],
   "source": [
    "senior = []\n",
    "staff3 = []\n",
    "staff2 = []\n",
    "trainee = []\n",
    "# senior = df_sul_america['senior'][0]\n",
    "# staff3 = df_sul_america['staff 3'][0]\n",
    "# staff2 = df_sul_america['staff 2'][0]\n",
    "# trainee = df_sul_america['trainee'][0]\n",
    "\n",
    "sr = df['senior'].sum()\n",
    "st3 = df['staff 3'].sum()\n",
    "st2 = df['staff 2'].sum()\n",
    "tr = df['trainee'].sum()"
   ]
  },
  {
   "cell_type": "code",
   "execution_count": 23,
   "metadata": {},
   "outputs": [],
   "source": [
    "for s in range(sr):\n",
    "    senior.append(f\"senior_{s}\")\n",
    "for s3 in range(st3):\n",
    "    staff3.append(f\"staff3_{s3}\")\n",
    "for s2 in range(st2):\n",
    "    staff2.append(f\"staff2_{s2}\")\n",
    "for t in range(tr):\n",
    "    trainee.append(f\"trainee_{t}\")"
   ]
  },
  {
   "cell_type": "code",
   "execution_count": 24,
   "metadata": {},
   "outputs": [],
   "source": [
    "from functions import generate_fy_calendar\n",
    "import datetime\n",
    "\n",
    "BEGIN_FY = datetime.date(2023, 7, 15)\n",
    "END_FY = datetime.date(2024, 6, 29)\n",
    "VACATIONS = [\"23-12-2023\", \"30-12-2023\", \"01-06-2024\", \"08-06-2024\", \"15-06-2024\", \"22-06-2024\"]\n",
    "\n",
    "data = []\n",
    "\n",
    "date_list = generate_fy_calendar(BEGIN_FY, END_FY)\n",
    "for date in date_list:\n",
    "    # formatted_date = date.strftime('%d-%m-%Y')\n",
    "    formatted_date = date.strftime('%Y-%m-%d')\n",
    "    data.append(formatted_date)"
   ]
  },
  {
   "cell_type": "code",
   "execution_count": 25,
   "metadata": {},
   "outputs": [],
   "source": [
    "# df_clean = df_repeated.drop(columns=[\"prioridade\", \"grupo\", \"possui trimestral\", \"deadline\", \"horas\", \"senior\", \"staff 3\", \"staff 2\", \"trainee\", \"fase_planejamento\", \"fase_interim\", \"fase_final\", \"fase_trimestral\"])\n"
   ]
  },
  {
   "cell_type": "code",
   "execution_count": null,
   "metadata": {},
   "outputs": [],
   "source": [
    "# df_clean"
   ]
  },
  {
   "cell_type": "code",
   "execution_count": null,
   "metadata": {},
   "outputs": [],
   "source": [
    "# df_s = pd.DataFrame(columns= data)"
   ]
  },
  {
   "cell_type": "code",
   "execution_count": null,
   "metadata": {},
   "outputs": [],
   "source": [
    "# df_s[\"equipe\"] = pd.DataFrame(senior)"
   ]
  },
  {
   "cell_type": "code",
   "execution_count": null,
   "metadata": {},
   "outputs": [],
   "source": [
    "# cols = list(df_s.columns)\n",
    "# cols = [cols[-1]] + cols[:-1]\n",
    "# df_s = df_s[cols]"
   ]
  },
  {
   "cell_type": "code",
   "execution_count": null,
   "metadata": {},
   "outputs": [],
   "source": [
    "# df_s"
   ]
  },
  {
   "cell_type": "code",
   "execution_count": null,
   "metadata": {},
   "outputs": [],
   "source": [
    "# firmas = df_clean[\"empresa\"]"
   ]
  },
  {
   "cell_type": "code",
   "execution_count": null,
   "metadata": {},
   "outputs": [],
   "source": [
    "# for index, row in df_clean.iterrows():\n",
    "#     company = df_clean.loc[index, \"empresa\"]\n",
    "#     for idx, col in enumerate(df_clean.columns[1:]):\n",
    "#         value = row[col]\n",
    "#         if value == 40:\n",
    "#             df_s[col][index]=company\n",
    "#         elif value == \"F\":\n",
    "#             df_s[col][index] = \"F\"\n",
    "#         else:\n",
    "#             df_s[col][index] = \"\""
   ]
  },
  {
   "cell_type": "code",
   "execution_count": 32,
   "metadata": {},
   "outputs": [],
   "source": [
    "repeat_factors = df['senior'].values\n",
    "repeat_factors = np.where(~np.isnan(repeat_factors) & (repeat_factors.astype(float) == repeat_factors.astype(int)), repeat_factors, 0)\n",
    "df_repeated = df.loc[np.repeat(df.index.values, repeat_factors.astype(int))].reset_index(drop=True)\n",
    "df_clean = df_repeated.drop(columns=[\"prioridade\", \"grupo\", \"possui trimestral\", \"deadline\", \"horas\", \"senior\", \"staff 3\", \"staff 2\", \"trainee\", \"fase_planejamento\", \"fase_interim\", \"fase_final\", \"fase_trimestral\"])\n",
    "df_s = pd.DataFrame(columns=data)\n",
    "df_s[\"equipe\"] = pd.DataFrame(senior)\n",
    "cols = list(df_s.columns)\n",
    "\n",
    "cols = [cols[-1]] + cols[:-1]\n",
    "df_s = df_s[cols]\n",
    "for index, row in df_clean.iterrows():\n",
    "    company = df_clean.loc[index, \"empresa\"]\n",
    "    for idx, col in enumerate(df_clean.columns[1:]):\n",
    "        value = row[col]\n",
    "        if value == 40:\n",
    "            df_s[col][index]=company\n",
    "        elif value == \"F\":\n",
    "            df_s[col][index] = \"F\"\n",
    "        else:\n",
    "            df_s[col][index] = \"\"\n",
    "\n",
    "df_s.to_csv(\"senior.csv\")\n",
    "del df_s\n",
    "del repeat_factors\n",
    "del df_clean\n",
    "\n",
    "\n",
    "\n",
    "repeat_factors = df['staff 3'].values\n",
    "repeat_factors = np.where(~np.isnan(repeat_factors) & (repeat_factors.astype(float) == repeat_factors.astype(int)), repeat_factors, 0)\n",
    "df_repeated = df.loc[np.repeat(df.index.values, repeat_factors.astype(int))].reset_index(drop=True)\n",
    "df_clean = df_repeated.drop(columns=[\"prioridade\", \"grupo\", \"possui trimestral\", \"deadline\", \"horas\", \"senior\", \"staff 3\", \"staff 2\", \"trainee\", \"fase_planejamento\", \"fase_interim\", \"fase_final\", \"fase_trimestral\"])\n",
    "df_s = pd.DataFrame(columns=data)\n",
    "df_s[\"equipe\"] = pd.DataFrame(staff3)\n",
    "cols = list(df_s.columns)\n",
    "cols = [cols[-1]] + cols[:-1]\n",
    "df_s = df_s[cols]\n",
    "\n",
    "for index, row in df_clean.iterrows():\n",
    "    company = df_clean.loc[index, \"empresa\"]\n",
    "    for idx, col in enumerate(df_clean.columns[1:]):\n",
    "        value = row[col]\n",
    "        if value == 40:\n",
    "            df_s[col][index]=company\n",
    "        elif value == \"F\":\n",
    "            df_s[col][index] = \"F\"\n",
    "        else:\n",
    "            df_s[col][index] = \"\"\n",
    "\n",
    "df_s.to_csv(\"staff3.csv\")\n",
    "del df_s\n",
    "del repeat_factors\n",
    "del df_clean\n",
    "\n",
    "\n",
    "repeat_factors = df['staff 2'].values\n",
    "repeat_factors = np.where(~np.isnan(repeat_factors) & (repeat_factors.astype(float) == repeat_factors.astype(int)), repeat_factors, 0)\n",
    "df_repeated = df.loc[np.repeat(df.index.values, repeat_factors.astype(int))].reset_index(drop=True)\n",
    "df_clean = df_repeated.drop(columns=[\"prioridade\", \"grupo\", \"possui trimestral\", \"deadline\", \"horas\", \"senior\", \"staff 3\", \"staff 2\", \"trainee\", \"fase_planejamento\", \"fase_interim\", \"fase_final\", \"fase_trimestral\"])\n",
    "df_s = pd.DataFrame(columns=data)\n",
    "df_s[\"equipe\"] = pd.DataFrame(staff2)\n",
    "cols = list(df_s.columns)\n",
    "cols = [cols[-1]] + cols[:-1]\n",
    "df_s = df_s[cols]\n",
    "\n",
    "for index, row in df_clean.iterrows():\n",
    "    company = df_clean.loc[index, \"empresa\"]\n",
    "    for idx, col in enumerate(df_clean.columns[1:]):\n",
    "        value = row[col]\n",
    "        if value == 40:\n",
    "            df_s[col][index]=company\n",
    "        elif value == \"F\":\n",
    "            df_s[col][index] = \"F\"\n",
    "        else:\n",
    "            df_s[col][index] = \"\"\n",
    "\n",
    "df_s.to_csv(\"staff2.csv\")\n",
    "del df_s\n",
    "del repeat_factors\n",
    "del df_clean\n",
    "\n",
    "\n",
    "\n",
    "repeat_factors = df['trainee'].values\n",
    "repeat_factors = np.where(~np.isnan(repeat_factors) & (repeat_factors.astype(float) == repeat_factors.astype(int)), repeat_factors, 0)\n",
    "df_repeated = df.loc[np.repeat(df.index.values, repeat_factors.astype(int))].reset_index(drop=True)\n",
    "df_clean = df_repeated.drop(columns=[\"prioridade\", \"grupo\", \"possui trimestral\", \"deadline\", \"horas\", \"senior\", \"staff 3\", \"staff 2\", \"trainee\", \"fase_planejamento\", \"fase_interim\", \"fase_final\", \"fase_trimestral\"])\n",
    "df_s = pd.DataFrame(columns=data)\n",
    "df_s[\"equipe\"] = pd.DataFrame(trainee)\n",
    "cols = list(df_s.columns)\n",
    "cols = [cols[-1]] + cols[:-1]\n",
    "df_s = df_s[cols]\n",
    "\n",
    "for index, row in df_clean.iterrows():\n",
    "    company = df_clean.loc[index, \"empresa\"]\n",
    "    for idx, col in enumerate(df_clean.columns[1:]):\n",
    "        value = row[col]\n",
    "        if value == 40:\n",
    "            df_s[col][index]=company\n",
    "        elif value == \"F\":\n",
    "            df_s[col][index] = \"F\"\n",
    "        else:\n",
    "            df_s[col][index] = \"\"\n",
    "\n",
    "df_s.to_csv(\"trainee.csv\")\n",
    "del df_s\n",
    "del repeat_factors\n",
    "del df_clean\n",
    "\n",
    "\n"
   ]
  },
  {
   "cell_type": "code",
   "execution_count": null,
   "metadata": {},
   "outputs": [],
   "source": []
  },
  {
   "cell_type": "code",
   "execution_count": null,
   "metadata": {},
   "outputs": [],
   "source": []
  },
  {
   "cell_type": "code",
   "execution_count": null,
   "metadata": {},
   "outputs": [],
   "source": []
  },
  {
   "cell_type": "code",
   "execution_count": 36,
   "metadata": {},
   "outputs": [],
   "source": [
    "def process_staff_level(level, staff, df, data):\n",
    "    repeat_factors = df[level].values\n",
    "    repeat_factors = np.where(~np.isnan(repeat_factors) & (repeat_factors.astype(float) == repeat_factors.astype(int)), repeat_factors, 0)\n",
    "    df_repeated = df.loc[np.repeat(df.index.values, repeat_factors.astype(int))].reset_index(drop=True)\n",
    "    \n",
    "    columns_to_drop = [\"prioridade\", \"grupo\", \"possui trimestral\", \"deadline\", \"horas\", \"senior\", \"staff 3\", \"staff 2\",\n",
    "                       \"trainee\", \"fase_planejamento\", \"fase_interim\", \"fase_final\", \"fase_trimestral\"]\n",
    "    df_clean = df_repeated.drop(columns=columns_to_drop)\n",
    "    \n",
    "    df_s = pd.DataFrame(columns=data)\n",
    "    df_s[\"equipe\"] = pd.DataFrame(staff)\n",
    "\n",
    "    cols = list(df_s.columns)\n",
    "    cols = [cols[-1]] + cols[:-1]\n",
    "    df_s = df_s[cols]\n",
    "    \n",
    "    for index, row in df_clean.iterrows():\n",
    "        company = df_clean.loc[index, \"empresa\"]\n",
    "        for idx, col in enumerate(df_clean.columns[1:]):\n",
    "            value = row[col]\n",
    "            if value == 40:\n",
    "                df_s[col][index] = company\n",
    "            elif value == \"F\":\n",
    "                df_s[col][index] = \"F\"\n",
    "            else:\n",
    "                df_s[col][index] = \"\"\n",
    "\n",
    "    df_s.to_csv(f\"{level}.csv\")"
   ]
  },
  {
   "cell_type": "code",
   "execution_count": 37,
   "metadata": {},
   "outputs": [],
   "source": [
    "data = []\n",
    "date_list = generate_fy_calendar(BEGIN_FY, END_FY)\n",
    "for date in date_list:\n",
    "    formatted_date = date.strftime('%Y-%m-%d')\n",
    "    data.append(formatted_date)\n",
    "\n",
    "\n",
    "df = pd.read_excel(r\"Resultado.xlsx\")\n",
    "df.drop(columns=[\"Unnamed: 0\"], inplace=True)\n",
    "\n",
    "for col in df.columns:\n",
    "    if all(df[col]==0):\n",
    "        df[col]=\"F\"\n",
    "\n",
    "\n",
    "senior = []\n",
    "staff3 = []\n",
    "staff2 = []\n",
    "trainee = []\n",
    "sr = df['senior'].sum()\n",
    "st3 = df['staff 3'].sum()\n",
    "st2 = df['staff 2'].sum()\n",
    "tr = df['trainee'].sum()\n",
    "\n",
    "for s in range(sr):\n",
    "    senior.append(f\"senior_{s}\")\n",
    "for s3 in range(st3):\n",
    "    staff3.append(f\"staff3_{s3}\")\n",
    "for s2 in range(st2):\n",
    "    staff2.append(f\"staff2_{s2}\")\n",
    "for t in range(tr):\n",
    "    trainee.append(f\"trainee_{t}\")"
   ]
  },
  {
   "cell_type": "code",
   "execution_count": 38,
   "metadata": {},
   "outputs": [],
   "source": [
    "process_staff_level('senior', senior, df, data)\n",
    "process_staff_level('staff 3', staff3, df, data)\n",
    "process_staff_level('staff 2', staff2, df, data)\n",
    "process_staff_level('trainee', trainee, df, data)"
   ]
  }
 ],
 "metadata": {
  "kernelspec": {
   "display_name": "rugosidade",
   "language": "python",
   "name": "python3"
  },
  "language_info": {
   "codemirror_mode": {
    "name": "ipython",
    "version": 3
   },
   "file_extension": ".py",
   "mimetype": "text/x-python",
   "name": "python",
   "nbconvert_exporter": "python",
   "pygments_lexer": "ipython3",
   "version": "3.8.18"
  }
 },
 "nbformat": 4,
 "nbformat_minor": 2
}
